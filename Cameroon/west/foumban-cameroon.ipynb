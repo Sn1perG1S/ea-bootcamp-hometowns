{
 "cells": [
  {
   "cell_type": "markdown",
   "id": "1a42e734",
   "metadata": {},
   "source": [
    "## Location\n",
    "\n",
    "**5° 73′ North, 10° 90′ East**\n"
   ]
  },
  {
   "cell_type": "markdown",
   "id": "a1259af0",
   "metadata": {},
   "source": [
    "## Population \n",
    "\n",
    "106 309 hab in 2005"
   ]
  },
  {
   "cell_type": "markdown",
   "id": "3e14fd27",
   "metadata": {},
   "source": [
    "## Landmark \n",
    "\n",
    "Foumban or Fumban is a city in Cameroon, lying north east of Bafoussam. It has a population of 83,522 (at the 2005 Census). It is a major town for the Bamoun people and is home to a museum of traditional arts and culture. Foumban is known for its political significance in the formation of Cameroon's history and its cultural, tourism and economic potential. There is also a market and a craft centre, while Foumban Royal Palace contains a museum with information on Ibrahim Njoya who invented a new religion, Bamum script, and the artificial language Shümom.\n",
    "\n",
    "![image](https://www.communedefoumban.org/wp-content/uploads/2020/04/situation-e1606469445443.png)"
   ]
  },
  {
   "cell_type": "markdown",
   "id": "dc018566",
   "metadata": {},
   "source": [
    "## Description \n",
    "Foumban is the headquarters of the Noun Division of the Western province. It was the seat of the Bamoun Dynasty.[2] The Bamoun Dynasty was founded in the 1394 by Mfon Nshare Yen. Mfon Nshare became the first Mfon (what is today called Sultan[3]) and was the founding father of Foumban, which became the capital city of the Bamoun Dynasty.\n",
    "### foumban_king_palace\n",
    "![image](https://www.residencendicam.cm/wp-content/uploads/2016/09/foumban.jpg)\n",
    "\n",
    "### foumban_museum\n",
    "![image](https://www.communedefoumban.org/wp-content/uploads/2020/04/image-2.jpg)\n"
   ]
  },
  {
   "cell_type": "markdown",
   "id": "bd15e292",
   "metadata": {},
   "source": [
    "## More informations  \n",
    "\n",
    "Found more informations about Foumban at <a href=\"http://palaisdesroisbamoun.com/History\" target=\"_blank\">this link</a>."
   ]
  }
 ],
 "metadata": {
  "kernelspec": {
   "display_name": "Python 3",
   "language": "python",
   "name": "python3"
  },
  "language_info": {
   "codemirror_mode": {
    "name": "ipython",
    "version": 3
   },
   "file_extension": ".py",
   "mimetype": "text/x-python",
   "name": "python",
   "nbconvert_exporter": "python",
   "pygments_lexer": "ipython3",
   "version": "3.8.10"
  }
 },
 "nbformat": 4,
 "nbformat_minor": 5
}
